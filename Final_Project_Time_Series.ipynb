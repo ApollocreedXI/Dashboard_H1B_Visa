{
  "nbformat": 4,
  "nbformat_minor": 0,
  "metadata": {
    "colab": {
      "provenance": [],
      "include_colab_link": true
    },
    "kernelspec": {
      "name": "python3",
      "display_name": "Python 3"
    },
    "language_info": {
      "name": "python"
    }
  },
  "cells": [
    {
      "cell_type": "markdown",
      "metadata": {
        "id": "view-in-github",
        "colab_type": "text"
      },
      "source": [
        "<a href=\"https://colab.research.google.com/github/ApollocreedXI/Dashboard_H1B_Visa/blob/main/Final_Project_Time_Series.ipynb\" target=\"_parent\"><img src=\"https://colab.research.google.com/assets/colab-badge.svg\" alt=\"Open In Colab\"/></a>"
      ]
    },
    {
      "cell_type": "markdown",
      "source": [
        "If you all have trouble running the code below, at least the file_path, you need to download the shared folder, and add it to \"My Drive\"."
      ],
      "metadata": {
        "id": "GERiRYeSevKF"
      }
    },
    {
      "cell_type": "code",
      "source": [
        "# we need these libraries.\n",
        "import os\n",
        "import altair as alt\n",
        "from scipy import stats\n",
        "import pandas as pd\n",
        "import numpy as np\n",
        "import matplotlib.pyplot as plt\n",
        "import seaborn as sns\n",
        "from statsmodels.tsa.stattools import acf, pacf, adfuller\n",
        "from statsmodels.tsa.arima.model import ARIMA\n",
        "from statsmodels.graphics.tsaplots import plot_acf, plot_pacf\n",
        "from statsmodels.stats.diagnostic import acorr_ljungbox\n",
        "from scipy.stats import norm\n",
        "from statsmodels.api import OLS, add_constant\n",
        "import warnings\n",
        "\n",
        "\n",
        "# set pandas options for viewing\n",
        "pd.set_option('display.max_columns', None)\n",
        "pd.set_option('display.max_rows', 200)"
      ],
      "metadata": {
        "id": "fkvvWbzrdb8k"
      },
      "execution_count": 1,
      "outputs": []
    },
    {
      "cell_type": "code",
      "source": [
        "# Mount Google Drive\n",
        "from google.colab import drive\n",
        "drive.mount('/content/drive')\n",
        "\n",
        "file_path = \"/content/drive/My Drive/Final Project Time Series/Time Series Project Dataset-1.xlsx\"\n",
        "\n",
        "# Load into pandas\n",
        "import pandas as pd\n",
        "df = pd.read_excel(file_path)\n",
        "\n",
        "# Convert Date to datetime and set index\n",
        "df['Date'] = pd.to_datetime(df['Date'])\n",
        "df.set_index('Date', inplace=True)\n",
        "\n",
        "df.head()\n"
      ],
      "metadata": {
        "colab": {
          "base_uri": "https://localhost:8080/",
          "height": 374
        },
        "id": "HbadS3_odP8N",
        "outputId": "36da19d6-a9b0-4cd9-e2d7-4003575691c8"
      },
      "execution_count": 3,
      "outputs": [
        {
          "output_type": "stream",
          "name": "stdout",
          "text": [
            "Drive already mounted at /content/drive; to attempt to forcibly remount, call drive.mount(\"/content/drive\", force_remount=True).\n"
          ]
        },
        {
          "output_type": "error",
          "ename": "FileNotFoundError",
          "evalue": "[Errno 2] No such file or directory: '/content/drive/My Drive/Final Project Time Series/Time Series Project Dataset-1.xlsx'",
          "traceback": [
            "\u001b[0;31m---------------------------------------------------------------------------\u001b[0m",
            "\u001b[0;31mFileNotFoundError\u001b[0m                         Traceback (most recent call last)",
            "\u001b[0;32m/tmp/ipython-input-72557845.py\u001b[0m in \u001b[0;36m<cell line: 0>\u001b[0;34m()\u001b[0m\n\u001b[1;32m      7\u001b[0m \u001b[0;31m# Load into pandas\u001b[0m\u001b[0;34m\u001b[0m\u001b[0;34m\u001b[0m\u001b[0m\n\u001b[1;32m      8\u001b[0m \u001b[0;32mimport\u001b[0m \u001b[0mpandas\u001b[0m \u001b[0;32mas\u001b[0m \u001b[0mpd\u001b[0m\u001b[0;34m\u001b[0m\u001b[0;34m\u001b[0m\u001b[0m\n\u001b[0;32m----> 9\u001b[0;31m \u001b[0mdf\u001b[0m \u001b[0;34m=\u001b[0m \u001b[0mpd\u001b[0m\u001b[0;34m.\u001b[0m\u001b[0mread_excel\u001b[0m\u001b[0;34m(\u001b[0m\u001b[0mfile_path\u001b[0m\u001b[0;34m)\u001b[0m\u001b[0;34m\u001b[0m\u001b[0;34m\u001b[0m\u001b[0m\n\u001b[0m\u001b[1;32m     10\u001b[0m \u001b[0;34m\u001b[0m\u001b[0m\n\u001b[1;32m     11\u001b[0m \u001b[0;31m# Convert Date to datetime and set index\u001b[0m\u001b[0;34m\u001b[0m\u001b[0;34m\u001b[0m\u001b[0m\n",
            "\u001b[0;32m/usr/local/lib/python3.12/dist-packages/pandas/io/excel/_base.py\u001b[0m in \u001b[0;36mread_excel\u001b[0;34m(io, sheet_name, header, names, index_col, usecols, dtype, engine, converters, true_values, false_values, skiprows, nrows, na_values, keep_default_na, na_filter, verbose, parse_dates, date_parser, date_format, thousands, decimal, comment, skipfooter, storage_options, dtype_backend, engine_kwargs)\u001b[0m\n\u001b[1;32m    493\u001b[0m     \u001b[0;32mif\u001b[0m \u001b[0;32mnot\u001b[0m \u001b[0misinstance\u001b[0m\u001b[0;34m(\u001b[0m\u001b[0mio\u001b[0m\u001b[0;34m,\u001b[0m \u001b[0mExcelFile\u001b[0m\u001b[0;34m)\u001b[0m\u001b[0;34m:\u001b[0m\u001b[0;34m\u001b[0m\u001b[0;34m\u001b[0m\u001b[0m\n\u001b[1;32m    494\u001b[0m         \u001b[0mshould_close\u001b[0m \u001b[0;34m=\u001b[0m \u001b[0;32mTrue\u001b[0m\u001b[0;34m\u001b[0m\u001b[0;34m\u001b[0m\u001b[0m\n\u001b[0;32m--> 495\u001b[0;31m         io = ExcelFile(\n\u001b[0m\u001b[1;32m    496\u001b[0m             \u001b[0mio\u001b[0m\u001b[0;34m,\u001b[0m\u001b[0;34m\u001b[0m\u001b[0;34m\u001b[0m\u001b[0m\n\u001b[1;32m    497\u001b[0m             \u001b[0mstorage_options\u001b[0m\u001b[0;34m=\u001b[0m\u001b[0mstorage_options\u001b[0m\u001b[0;34m,\u001b[0m\u001b[0;34m\u001b[0m\u001b[0;34m\u001b[0m\u001b[0m\n",
            "\u001b[0;32m/usr/local/lib/python3.12/dist-packages/pandas/io/excel/_base.py\u001b[0m in \u001b[0;36m__init__\u001b[0;34m(self, path_or_buffer, engine, storage_options, engine_kwargs)\u001b[0m\n\u001b[1;32m   1548\u001b[0m                 \u001b[0mext\u001b[0m \u001b[0;34m=\u001b[0m \u001b[0;34m\"xls\"\u001b[0m\u001b[0;34m\u001b[0m\u001b[0;34m\u001b[0m\u001b[0m\n\u001b[1;32m   1549\u001b[0m             \u001b[0;32melse\u001b[0m\u001b[0;34m:\u001b[0m\u001b[0;34m\u001b[0m\u001b[0;34m\u001b[0m\u001b[0m\n\u001b[0;32m-> 1550\u001b[0;31m                 ext = inspect_excel_format(\n\u001b[0m\u001b[1;32m   1551\u001b[0m                     \u001b[0mcontent_or_path\u001b[0m\u001b[0;34m=\u001b[0m\u001b[0mpath_or_buffer\u001b[0m\u001b[0;34m,\u001b[0m \u001b[0mstorage_options\u001b[0m\u001b[0;34m=\u001b[0m\u001b[0mstorage_options\u001b[0m\u001b[0;34m\u001b[0m\u001b[0;34m\u001b[0m\u001b[0m\n\u001b[1;32m   1552\u001b[0m                 )\n",
            "\u001b[0;32m/usr/local/lib/python3.12/dist-packages/pandas/io/excel/_base.py\u001b[0m in \u001b[0;36minspect_excel_format\u001b[0;34m(content_or_path, storage_options)\u001b[0m\n\u001b[1;32m   1400\u001b[0m         \u001b[0mcontent_or_path\u001b[0m \u001b[0;34m=\u001b[0m \u001b[0mBytesIO\u001b[0m\u001b[0;34m(\u001b[0m\u001b[0mcontent_or_path\u001b[0m\u001b[0;34m)\u001b[0m\u001b[0;34m\u001b[0m\u001b[0;34m\u001b[0m\u001b[0m\n\u001b[1;32m   1401\u001b[0m \u001b[0;34m\u001b[0m\u001b[0m\n\u001b[0;32m-> 1402\u001b[0;31m     with get_handle(\n\u001b[0m\u001b[1;32m   1403\u001b[0m         \u001b[0mcontent_or_path\u001b[0m\u001b[0;34m,\u001b[0m \u001b[0;34m\"rb\"\u001b[0m\u001b[0;34m,\u001b[0m \u001b[0mstorage_options\u001b[0m\u001b[0;34m=\u001b[0m\u001b[0mstorage_options\u001b[0m\u001b[0;34m,\u001b[0m \u001b[0mis_text\u001b[0m\u001b[0;34m=\u001b[0m\u001b[0;32mFalse\u001b[0m\u001b[0;34m\u001b[0m\u001b[0;34m\u001b[0m\u001b[0m\n\u001b[1;32m   1404\u001b[0m     ) as handle:\n",
            "\u001b[0;32m/usr/local/lib/python3.12/dist-packages/pandas/io/common.py\u001b[0m in \u001b[0;36mget_handle\u001b[0;34m(path_or_buf, mode, encoding, compression, memory_map, is_text, errors, storage_options)\u001b[0m\n\u001b[1;32m    880\u001b[0m         \u001b[0;32melse\u001b[0m\u001b[0;34m:\u001b[0m\u001b[0;34m\u001b[0m\u001b[0;34m\u001b[0m\u001b[0m\n\u001b[1;32m    881\u001b[0m             \u001b[0;31m# Binary mode\u001b[0m\u001b[0;34m\u001b[0m\u001b[0;34m\u001b[0m\u001b[0m\n\u001b[0;32m--> 882\u001b[0;31m             \u001b[0mhandle\u001b[0m \u001b[0;34m=\u001b[0m \u001b[0mopen\u001b[0m\u001b[0;34m(\u001b[0m\u001b[0mhandle\u001b[0m\u001b[0;34m,\u001b[0m \u001b[0mioargs\u001b[0m\u001b[0;34m.\u001b[0m\u001b[0mmode\u001b[0m\u001b[0;34m)\u001b[0m\u001b[0;34m\u001b[0m\u001b[0;34m\u001b[0m\u001b[0m\n\u001b[0m\u001b[1;32m    883\u001b[0m         \u001b[0mhandles\u001b[0m\u001b[0;34m.\u001b[0m\u001b[0mappend\u001b[0m\u001b[0;34m(\u001b[0m\u001b[0mhandle\u001b[0m\u001b[0;34m)\u001b[0m\u001b[0;34m\u001b[0m\u001b[0;34m\u001b[0m\u001b[0m\n\u001b[1;32m    884\u001b[0m \u001b[0;34m\u001b[0m\u001b[0m\n",
            "\u001b[0;31mFileNotFoundError\u001b[0m: [Errno 2] No such file or directory: '/content/drive/My Drive/Final Project Time Series/Time Series Project Dataset-1.xlsx'"
          ]
        }
      ]
    },
    {
      "cell_type": "markdown",
      "source": [
        "Note, I have not done the date adjustment he specified in class."
      ],
      "metadata": {
        "id": "MaTnB43NkKxj"
      }
    },
    {
      "cell_type": "code",
      "source": [
        "df.info()"
      ],
      "metadata": {
        "colab": {
          "base_uri": "https://localhost:8080/"
        },
        "id": "OwczyCkqeN0h",
        "outputId": "63c7a48f-fe5b-47b7-e798-a3cd29e47cea"
      },
      "execution_count": null,
      "outputs": [
        {
          "output_type": "stream",
          "name": "stdout",
          "text": [
            "<class 'pandas.core.frame.DataFrame'>\n",
            "DatetimeIndex: 2514 entries, 2015-09-08 to 2025-09-05\n",
            "Data columns (total 11 columns):\n",
            " #   Column      Non-Null Count  Dtype  \n",
            "---  ------      --------------  -----  \n",
            " 0   SPY Price   2514 non-null   float64\n",
            " 1   SPY Volume  2514 non-null   int64  \n",
            " 2   % Change    2513 non-null   float64\n",
            " 3   14-day RSI  2500 non-null   float64\n",
            " 4   5-day SMA   2510 non-null   float64\n",
            " 5   5-day EMA   2510 non-null   float64\n",
            " 6   10-day SMA  2505 non-null   float64\n",
            " 7   10-day EMA  2505 non-null   float64\n",
            " 8   20-day SMA  2495 non-null   float64\n",
            " 9   WTI Price   2502 non-null   float64\n",
            " 10  VIX Price   2514 non-null   float64\n",
            "dtypes: float64(10), int64(1)\n",
            "memory usage: 235.7 KB\n"
          ]
        }
      ]
    },
    {
      "cell_type": "code",
      "source": [
        "df.isna().sum()"
      ],
      "metadata": {
        "colab": {
          "base_uri": "https://localhost:8080/",
          "height": 429
        },
        "id": "BRUV7uk8hG78",
        "outputId": "dec1c0d1-7572-4e05-fdb7-3499128fc93d"
      },
      "execution_count": null,
      "outputs": [
        {
          "output_type": "execute_result",
          "data": {
            "text/plain": [
              "SPY Price      0\n",
              "SPY Volume     0\n",
              "% Change       1\n",
              "14-day RSI    14\n",
              "5-day SMA      4\n",
              "5-day EMA      4\n",
              "10-day SMA     9\n",
              "10-day EMA     9\n",
              "20-day SMA    19\n",
              "WTI Price     12\n",
              "VIX Price      0\n",
              "dtype: int64"
            ],
            "text/html": [
              "<div>\n",
              "<style scoped>\n",
              "    .dataframe tbody tr th:only-of-type {\n",
              "        vertical-align: middle;\n",
              "    }\n",
              "\n",
              "    .dataframe tbody tr th {\n",
              "        vertical-align: top;\n",
              "    }\n",
              "\n",
              "    .dataframe thead th {\n",
              "        text-align: right;\n",
              "    }\n",
              "</style>\n",
              "<table border=\"1\" class=\"dataframe\">\n",
              "  <thead>\n",
              "    <tr style=\"text-align: right;\">\n",
              "      <th></th>\n",
              "      <th>0</th>\n",
              "    </tr>\n",
              "  </thead>\n",
              "  <tbody>\n",
              "    <tr>\n",
              "      <th>SPY Price</th>\n",
              "      <td>0</td>\n",
              "    </tr>\n",
              "    <tr>\n",
              "      <th>SPY Volume</th>\n",
              "      <td>0</td>\n",
              "    </tr>\n",
              "    <tr>\n",
              "      <th>% Change</th>\n",
              "      <td>1</td>\n",
              "    </tr>\n",
              "    <tr>\n",
              "      <th>14-day RSI</th>\n",
              "      <td>14</td>\n",
              "    </tr>\n",
              "    <tr>\n",
              "      <th>5-day SMA</th>\n",
              "      <td>4</td>\n",
              "    </tr>\n",
              "    <tr>\n",
              "      <th>5-day EMA</th>\n",
              "      <td>4</td>\n",
              "    </tr>\n",
              "    <tr>\n",
              "      <th>10-day SMA</th>\n",
              "      <td>9</td>\n",
              "    </tr>\n",
              "    <tr>\n",
              "      <th>10-day EMA</th>\n",
              "      <td>9</td>\n",
              "    </tr>\n",
              "    <tr>\n",
              "      <th>20-day SMA</th>\n",
              "      <td>19</td>\n",
              "    </tr>\n",
              "    <tr>\n",
              "      <th>WTI Price</th>\n",
              "      <td>12</td>\n",
              "    </tr>\n",
              "    <tr>\n",
              "      <th>VIX Price</th>\n",
              "      <td>0</td>\n",
              "    </tr>\n",
              "  </tbody>\n",
              "</table>\n",
              "</div><br><label><b>dtype:</b> int64</label>"
            ]
          },
          "metadata": {},
          "execution_count": 36
        }
      ]
    },
    {
      "cell_type": "code",
      "source": [
        "# Check for nulls only in rows AFTER the 20th row (index 20 onward)\n",
        "nulls_after_20 = df.iloc[20:].isnull().sum()\n",
        "\n",
        "print(\"Null counts after row 20:\")\n",
        "print(nulls_after_20)\n"
      ],
      "metadata": {
        "colab": {
          "base_uri": "https://localhost:8080/"
        },
        "id": "tDALx9XZl4z3",
        "outputId": "4cd303a7-bfb1-4e2a-bd2c-fb975a9712ba"
      },
      "execution_count": null,
      "outputs": [
        {
          "output_type": "stream",
          "name": "stdout",
          "text": [
            "Null counts after row 20:\n",
            "SPY Price      0\n",
            "SPY Volume     0\n",
            "% Change       0\n",
            "14-day RSI     0\n",
            "5-day SMA      0\n",
            "5-day EMA      0\n",
            "10-day SMA     0\n",
            "10-day EMA     0\n",
            "20-day SMA     0\n",
            "WTI Price     12\n",
            "VIX Price      0\n",
            "dtype: int64\n"
          ]
        }
      ]
    },
    {
      "cell_type": "markdown",
      "source": [
        "So overall, there are not too many nulls or missingness in this dataset. Most are in the first 20 rows, as I believe the professor mentioned, there's a rolling window for some of the columns. Dropping the first 20 rows removes less than 1% of the data as we have 2,514 rows."
      ],
      "metadata": {
        "id": "0OMbqNSxpdCF"
      }
    },
    {
      "cell_type": "code",
      "source": [
        "total_rows = len(df)\n",
        "drop_rows = 20\n",
        "\n",
        "percent_dropped = (drop_rows / total_rows) * 100\n",
        "print(f\"Percentage dropped: {percent_dropped:.2f}%\")\n",
        "print(\"Less than 1%, shouldn't hurt anything, and I think we'd be better off\")\n"
      ],
      "metadata": {
        "colab": {
          "base_uri": "https://localhost:8080/"
        },
        "id": "4QOlNv7uk45w",
        "outputId": "e991e850-05f3-4aea-d8ad-153bfdce7c4a"
      },
      "execution_count": null,
      "outputs": [
        {
          "output_type": "stream",
          "name": "stdout",
          "text": [
            "Percentage dropped: 0.80%\n",
            "Less than 1%, shouldn't hurt anything, and I think we'd be better off\n"
          ]
        }
      ]
    },
    {
      "cell_type": "markdown",
      "source": [
        "Going to drop the first 20 rows."
      ],
      "metadata": {
        "id": "FpLJVhbSsUdi"
      }
    },
    {
      "cell_type": "code",
      "source": [
        "# Drop first 20 rows\n",
        "df_clean = df.iloc[20:].copy()"
      ],
      "metadata": {
        "id": "rpYjUhFkmjEV"
      },
      "execution_count": null,
      "outputs": []
    },
    {
      "cell_type": "code",
      "source": [
        "df_clean.isna().sum()"
      ],
      "metadata": {
        "colab": {
          "base_uri": "https://localhost:8080/",
          "height": 429
        },
        "id": "9o17bJetscgs",
        "outputId": "2d896421-71e6-4a00-c632-4c299c7fc2e6"
      },
      "execution_count": null,
      "outputs": [
        {
          "output_type": "execute_result",
          "data": {
            "text/plain": [
              "SPY Price      0\n",
              "SPY Volume     0\n",
              "% Change       0\n",
              "14-day RSI     0\n",
              "5-day SMA      0\n",
              "5-day EMA      0\n",
              "10-day SMA     0\n",
              "10-day EMA     0\n",
              "20-day SMA     0\n",
              "WTI Price     12\n",
              "VIX Price      0\n",
              "dtype: int64"
            ],
            "text/html": [
              "<div>\n",
              "<style scoped>\n",
              "    .dataframe tbody tr th:only-of-type {\n",
              "        vertical-align: middle;\n",
              "    }\n",
              "\n",
              "    .dataframe tbody tr th {\n",
              "        vertical-align: top;\n",
              "    }\n",
              "\n",
              "    .dataframe thead th {\n",
              "        text-align: right;\n",
              "    }\n",
              "</style>\n",
              "<table border=\"1\" class=\"dataframe\">\n",
              "  <thead>\n",
              "    <tr style=\"text-align: right;\">\n",
              "      <th></th>\n",
              "      <th>0</th>\n",
              "    </tr>\n",
              "  </thead>\n",
              "  <tbody>\n",
              "    <tr>\n",
              "      <th>SPY Price</th>\n",
              "      <td>0</td>\n",
              "    </tr>\n",
              "    <tr>\n",
              "      <th>SPY Volume</th>\n",
              "      <td>0</td>\n",
              "    </tr>\n",
              "    <tr>\n",
              "      <th>% Change</th>\n",
              "      <td>0</td>\n",
              "    </tr>\n",
              "    <tr>\n",
              "      <th>14-day RSI</th>\n",
              "      <td>0</td>\n",
              "    </tr>\n",
              "    <tr>\n",
              "      <th>5-day SMA</th>\n",
              "      <td>0</td>\n",
              "    </tr>\n",
              "    <tr>\n",
              "      <th>5-day EMA</th>\n",
              "      <td>0</td>\n",
              "    </tr>\n",
              "    <tr>\n",
              "      <th>10-day SMA</th>\n",
              "      <td>0</td>\n",
              "    </tr>\n",
              "    <tr>\n",
              "      <th>10-day EMA</th>\n",
              "      <td>0</td>\n",
              "    </tr>\n",
              "    <tr>\n",
              "      <th>20-day SMA</th>\n",
              "      <td>0</td>\n",
              "    </tr>\n",
              "    <tr>\n",
              "      <th>WTI Price</th>\n",
              "      <td>12</td>\n",
              "    </tr>\n",
              "    <tr>\n",
              "      <th>VIX Price</th>\n",
              "      <td>0</td>\n",
              "    </tr>\n",
              "  </tbody>\n",
              "</table>\n",
              "</div><br><label><b>dtype:</b> int64</label>"
            ]
          },
          "metadata": {},
          "execution_count": 40
        }
      ]
    },
    {
      "cell_type": "code",
      "source": [
        "# Show the rows with missing WTI Price\n",
        "wti_null_rows = df[df['WTI Price'].isnull()]\n",
        "print(wti_null_rows)\n"
      ],
      "metadata": {
        "colab": {
          "base_uri": "https://localhost:8080/"
        },
        "id": "uJM9osz9svgE",
        "outputId": "6a93f759-68de-4199-e60c-3a2472a4356b"
      },
      "execution_count": null,
      "outputs": [
        {
          "output_type": "stream",
          "name": "stdout",
          "text": [
            "            SPY Price  SPY Volume  % Change  14-day RSI  5-day SMA  \\\n",
            "Date                                                                 \n",
            "2017-07-03     242.21    39153810  0.001696   44.468085    242.036   \n",
            "2018-11-23     263.25    42807880 -0.006679   38.072492    267.044   \n",
            "2018-12-24     234.34   147311600 -0.026423   12.035629    245.710   \n",
            "2018-12-31     249.92   143399900  0.008759   33.191670    245.252   \n",
            "2019-07-05     298.46    51677330 -0.001138   72.335271    296.470   \n",
            "2019-11-11     308.35    35934910 -0.001910   83.420463    307.920   \n",
            "2020-11-27     363.67    28514070  0.002785   65.866122    360.468   \n",
            "2021-11-26     458.97   112669600 -0.022303   56.405063    466.612   \n",
            "2023-10-09     432.29    80374360  0.006402   32.032645    426.516   \n",
            "2023-11-10     440.61    89558050  0.015605   63.506299    436.864   \n",
            "2024-10-14     584.32    36217220  0.008178   62.760752    578.068   \n",
            "2024-11-11     598.76    37586770  0.000953   63.245997    592.060   \n",
            "\n",
            "             5-day EMA  10-day SMA  10-day EMA  20-day SMA  WTI Price  \\\n",
            "Date                                                                    \n",
            "2017-07-03  242.238000     242.540  242.680465    243.1340        NaN   \n",
            "2018-11-23  267.082000     270.083  270.252156    271.1920        NaN   \n",
            "2018-12-24  244.722667     253.934  252.804319    262.3240        NaN   \n",
            "2018-12-31  245.578667     247.583  248.871068    257.6970        NaN   \n",
            "2019-07-05  296.205333     294.272  294.820646    292.3080        NaN   \n",
            "2019-11-11  307.932667     306.379  306.324137    303.1235        NaN   \n",
            "2020-11-27  360.750000     359.769  359.622365    352.6440        NaN   \n",
            "2021-11-26  465.499333     467.491  466.334618    465.9980        NaN   \n",
            "2023-10-09  427.776667     426.782  427.778445    433.6535        NaN   \n",
            "2023-11-10  437.323333     430.622  429.988946    427.0490        NaN   \n",
            "2024-10-14  577.949333     573.642  574.719241    571.4330        NaN   \n",
            "2024-11-11  590.433333     583.157  584.526593    582.2320        NaN   \n",
            "\n",
            "            VIX Price  \n",
            "Date                   \n",
            "2017-07-03      11.22  \n",
            "2018-11-23      21.52  \n",
            "2018-12-24      36.07  \n",
            "2018-12-31      25.42  \n",
            "2019-07-05      13.28  \n",
            "2019-11-11      12.69  \n",
            "2020-11-27      20.84  \n",
            "2021-11-26      28.62  \n",
            "2023-10-09      17.70  \n",
            "2023-11-10      14.17  \n",
            "2024-10-14      19.70  \n",
            "2024-11-11      14.97  \n"
          ]
        }
      ]
    },
    {
      "cell_type": "code",
      "source": [
        "# Going to clean 'WTI Price' with interpolation, which is similar to forward-fill\n",
        "df_clean['WTI Price'] = df['WTI Price'].interpolate(method='linear')"
      ],
      "metadata": {
        "id": "dc74SF8hsxUz"
      },
      "execution_count": null,
      "outputs": []
    },
    {
      "cell_type": "code",
      "source": [
        "df_clean.isna().sum()"
      ],
      "metadata": {
        "colab": {
          "base_uri": "https://localhost:8080/",
          "height": 429
        },
        "id": "0NlTyK7UuYV6",
        "outputId": "fd8c4cf9-62e5-4f0d-b920-61410f4932ad"
      },
      "execution_count": null,
      "outputs": [
        {
          "output_type": "execute_result",
          "data": {
            "text/plain": [
              "SPY Price     0\n",
              "SPY Volume    0\n",
              "% Change      0\n",
              "14-day RSI    0\n",
              "5-day SMA     0\n",
              "5-day EMA     0\n",
              "10-day SMA    0\n",
              "10-day EMA    0\n",
              "20-day SMA    0\n",
              "WTI Price     0\n",
              "VIX Price     0\n",
              "dtype: int64"
            ],
            "text/html": [
              "<div>\n",
              "<style scoped>\n",
              "    .dataframe tbody tr th:only-of-type {\n",
              "        vertical-align: middle;\n",
              "    }\n",
              "\n",
              "    .dataframe tbody tr th {\n",
              "        vertical-align: top;\n",
              "    }\n",
              "\n",
              "    .dataframe thead th {\n",
              "        text-align: right;\n",
              "    }\n",
              "</style>\n",
              "<table border=\"1\" class=\"dataframe\">\n",
              "  <thead>\n",
              "    <tr style=\"text-align: right;\">\n",
              "      <th></th>\n",
              "      <th>0</th>\n",
              "    </tr>\n",
              "  </thead>\n",
              "  <tbody>\n",
              "    <tr>\n",
              "      <th>SPY Price</th>\n",
              "      <td>0</td>\n",
              "    </tr>\n",
              "    <tr>\n",
              "      <th>SPY Volume</th>\n",
              "      <td>0</td>\n",
              "    </tr>\n",
              "    <tr>\n",
              "      <th>% Change</th>\n",
              "      <td>0</td>\n",
              "    </tr>\n",
              "    <tr>\n",
              "      <th>14-day RSI</th>\n",
              "      <td>0</td>\n",
              "    </tr>\n",
              "    <tr>\n",
              "      <th>5-day SMA</th>\n",
              "      <td>0</td>\n",
              "    </tr>\n",
              "    <tr>\n",
              "      <th>5-day EMA</th>\n",
              "      <td>0</td>\n",
              "    </tr>\n",
              "    <tr>\n",
              "      <th>10-day SMA</th>\n",
              "      <td>0</td>\n",
              "    </tr>\n",
              "    <tr>\n",
              "      <th>10-day EMA</th>\n",
              "      <td>0</td>\n",
              "    </tr>\n",
              "    <tr>\n",
              "      <th>20-day SMA</th>\n",
              "      <td>0</td>\n",
              "    </tr>\n",
              "    <tr>\n",
              "      <th>WTI Price</th>\n",
              "      <td>0</td>\n",
              "    </tr>\n",
              "    <tr>\n",
              "      <th>VIX Price</th>\n",
              "      <td>0</td>\n",
              "    </tr>\n",
              "  </tbody>\n",
              "</table>\n",
              "</div><br><label><b>dtype:</b> int64</label>"
            ]
          },
          "metadata": {},
          "execution_count": 43
        }
      ]
    },
    {
      "cell_type": "markdown",
      "source": [
        "Data looks clean now."
      ],
      "metadata": {
        "id": "My9oc3ERuh9S"
      }
    },
    {
      "cell_type": "code",
      "source": [
        "# Spy series never had any nulls, but pulling it from df_clean to be organized I guess\n",
        "spy_series = pd.Series(df_clean['SPY Price'].values, index=df_clean.index)\n",
        "print(spy_series.head())\n"
      ],
      "metadata": {
        "colab": {
          "base_uri": "https://localhost:8080/"
        },
        "id": "Kowaf67SufdS",
        "outputId": "3a5e40d1-deb5-440a-a737-574070ef288d"
      },
      "execution_count": null,
      "outputs": [
        {
          "output_type": "stream",
          "name": "stdout",
          "text": [
            "Date\n",
            "2015-10-06    197.79\n",
            "2015-10-07    199.41\n",
            "2015-10-08    201.21\n",
            "2015-10-09    201.33\n",
            "2015-10-12    201.52\n",
            "dtype: float64\n"
          ]
        }
      ]
    },
    {
      "cell_type": "code",
      "source": [
        "spy_series.plot (title='Fig 1.1 - Series Gt', ylabel='IPI', xlabel='Years')\n",
        "plt.show()"
      ],
      "metadata": {
        "colab": {
          "base_uri": "https://localhost:8080/",
          "height": 444
        },
        "id": "9RFnd-gWyNUt",
        "outputId": "6bfc658c-06d9-461f-8b13-e36d6e909687"
      },
      "execution_count": null,
      "outputs": [
        {
          "output_type": "display_data",
          "data": {
            "text/plain": [
              "<Figure size 640x480 with 1 Axes>"
            ],
            "image/png": "[encoded data removed]"
          },
          "metadata": {}
        }
      ]
    },
    {
      "cell_type": "code",
      "source": [],
      "metadata": {
        "id": "-VAyeu86y24u"
      },
      "execution_count": null,
      "outputs": []
    }
  ]
}